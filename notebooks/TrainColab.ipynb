{
  "nbformat": 4,
  "nbformat_minor": 0,
  "metadata": {
    "colab": {
      "provenance": [],
      "gpuType": "T4"
    },
    "kernelspec": {
      "name": "python3",
      "display_name": "Python 3"
    },
    "language_info": {
      "name": "python"
    },
    "accelerator": "GPU"
  },
  "cells": [
    {
      "cell_type": "code",
      "execution_count": 1,
      "metadata": {
        "colab": {
          "base_uri": "https://localhost:8080/"
        },
        "id": "C-9WmmEZhvyh",
        "outputId": "632a2cc8-9ed3-478b-b0b5-22220e00b69a"
      },
      "outputs": [
        {
          "output_type": "stream",
          "name": "stderr",
          "text": [
            "Cloning into 'pabd_cv'...\n"
          ]
        }
      ],
      "source": [
        "%%bash \n",
        "rm -rf pabd_cv\n",
        "git clone https://github.com/labintsev/pabd_cv"
      ]
    },
    {
      "cell_type": "code",
      "source": [
        "%cd pabd_cv"
      ],
      "metadata": {
        "colab": {
          "base_uri": "https://localhost:8080/"
        },
        "id": "g1Aj3WOFhwno",
        "outputId": "8d0e86f2-92c7-4b9e-cb00-b385e30ecbf0"
      },
      "execution_count": 2,
      "outputs": [
        {
          "output_type": "stream",
          "name": "stdout",
          "text": [
            "/content/pabd_cv\n"
          ]
        }
      ]
    },
    {
      "cell_type": "code",
      "source": [
        "%%bash\n",
        "cp ../drive/MyDrive/pabd_cv/train.zip .\n",
        "unzip train.zip \n",
        "mv train data/raw/kaggle"
      ],
      "metadata": {
        "id": "EWRyoCICkX7K"
      },
      "execution_count": null,
      "outputs": []
    },
    {
      "cell_type": "code",
      "source": [
        "! python src/process_data.py -n -1"
      ],
      "metadata": {
        "id": "Nuuv99s_lEwp"
      },
      "execution_count": null,
      "outputs": []
    },
    {
      "cell_type": "code",
      "source": [
        "! python src/train.py -e 1"
      ],
      "metadata": {
        "id": "xyJPYLnlljoQ"
      },
      "execution_count": null,
      "outputs": []
    },
    {
      "cell_type": "code",
      "source": [
        "! zip -r model.zip models/my_model"
      ],
      "metadata": {
        "colab": {
          "base_uri": "https://localhost:8080/"
        },
        "id": "HuGXiPCTuRJz",
        "outputId": "6af7660e-7eb5-4f27-9712-bca7872825e3"
      },
      "execution_count": 11,
      "outputs": [
        {
          "output_type": "stream",
          "name": "stdout",
          "text": [
            "  adding: models/my_model/ (stored 0%)\n",
            "  adding: models/my_model/variables/ (stored 0%)\n",
            "  adding: models/my_model/variables/variables.data-00000-of-00001 (deflated 7%)\n",
            "  adding: models/my_model/variables/variables.index (deflated 77%)\n",
            "  adding: models/my_model/assets/ (stored 0%)\n",
            "  adding: models/my_model/fingerprint.pb (stored 0%)\n",
            "  adding: models/my_model/saved_model.pb (deflated 90%)\n",
            "  adding: models/my_model/keras_metadata.pb (deflated 94%)\n"
          ]
        }
      ]
    }
  ]
}